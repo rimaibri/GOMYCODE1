{
 "cells": [
  {
   "cell_type": "markdown",
   "metadata": {
    "id": "uDsMSsq8HuFV"
   },
   "source": [
    "# Python keywords"
   ]
  },
  {
   "cell_type": "markdown",
   "metadata": {
    "id": "Mfa1yI7XHuFX"
   },
   "source": [
    "Here's some python keywords"
   ]
  },
  {
   "cell_type": "code",
   "execution_count": null,
   "metadata": {
    "id": "ifo7QuFDHuFZ"
   },
   "outputs": [],
   "source": [
    "None # for null value\n",
    "import # to import libraries\n",
    "True \n",
    "False #boolean values\n",
    "return\n",
    "def\n",
    "class\n",
    "#etc..."
   ]
  },
  {
   "cell_type": "markdown",
   "metadata": {
    "id": "ReKuWct4HuFi"
   },
   "source": [
    "# Python statements"
   ]
  },
  {
   "cell_type": "code",
   "execution_count": 10,
   "metadata": {
    "id": "8sS8asq9HuFj"
   },
   "outputs": [
    {
     "name": "stdout",
     "output_type": "stream",
     "text": [
      "a= 11\n"
     ]
    }
   ],
   "source": [
    "a=5+6   #simple statement\n",
    "print(\"a=\",a)"
   ]
  },
  {
   "cell_type": "code",
   "execution_count": 11,
   "metadata": {
    "id": "rTSvtVSjHuFq"
   },
   "outputs": [
    {
     "name": "stdout",
     "output_type": "stream",
     "text": [
      "a= 45\n"
     ]
    }
   ],
   "source": [
    "a = 1 + 2 + 3 + \\\n",
    "    4 + 5 + 6 +\\\n",
    "    7 + 8 + 9    #multiline statements\n",
    "print(\"a=\",a)"
   ]
  },
  {
   "cell_type": "code",
   "execution_count": 12,
   "metadata": {
    "id": "1bNnjB_9HuFw"
   },
   "outputs": [
    {
     "name": "stdout",
     "output_type": "stream",
     "text": [
      "a= 45\n"
     ]
    }
   ],
   "source": [
    "a = (1 + 2 + 3 +\n",
    "    4 + 5 + 6 +\n",
    "    7 + 8 + 9)  #multiline statements\n",
    "print(\"a=\",a)"
   ]
  },
  {
   "cell_type": "code",
   "execution_count": 5,
   "metadata": {
    "id": "jYqPuoC2HuF2"
   },
   "outputs": [
    {
     "name": "stdout",
     "output_type": "stream",
     "text": [
      "['red', 'blue', 'green']\n"
     ]
    }
   ],
   "source": [
    "colors = ['red',\n",
    "          'blue', \n",
    "          'green']   #multiline statements \n",
    "print(colors)"
   ]
  },
  {
   "cell_type": "code",
   "execution_count": 9,
   "metadata": {
    "id": "hjkmLkRlHuF9"
   },
   "outputs": [
    {
     "name": "stdout",
     "output_type": "stream",
     "text": [
      "a= 1\n",
      "b= 2\n",
      "c= 3\n"
     ]
    }
   ],
   "source": [
    "a = 1; b = 2; c = 3  \n",
    "print(\"a=\",a);print(\"b=\",b);print(\"c=\",c)\n",
    "#multiline statements in one line"
   ]
  },
  {
   "cell_type": "markdown",
   "metadata": {
    "id": "1Qk9_r-RHuGD"
   },
   "source": [
    "\n",
    "\n",
    "```\n",
    "# Ce texte est au format code\n",
    "```\n",
    "\n",
    "## Indentaton in python"
   ]
  },
  {
   "cell_type": "code",
   "execution_count": 15,
   "metadata": {
    "colab": {
     "base_uri": "https://localhost:8080/"
    },
    "executionInfo": {
     "elapsed": 672,
     "status": "ok",
     "timestamp": 1611214017038,
     "user": {
      "displayName": "SARA Madani",
      "photoUrl": "https://lh3.googleusercontent.com/a-/AOh14GgHSgyfQT263k9LcCxEH_b1VthPWleDsOPArRLiEA=s64",
      "userId": "12407079864711164725"
     },
     "user_tz": -660
    },
    "id": "wXKmhu73HuGF",
    "outputId": "d8291597-f605-4a90-d3b9-c2357e2f4674"
   },
   "outputs": [
    {
     "name": "stdout",
     "output_type": "stream",
     "text": [
      "x= 2\n"
     ]
    }
   ],
   "source": [
    "x=2\n",
    "if x<5:\n",
    "  print(\"x=\",x)\n"
   ]
  },
  {
   "cell_type": "markdown",
   "metadata": {
    "id": "7XgoDWDoHuGL"
   },
   "source": [
    "\n",
    "let's try now this code"
   ]
  },
  {
   "cell_type": "code",
   "execution_count": 16,
   "metadata": {
    "colab": {
     "base_uri": "https://localhost:8080/",
     "height": 129
    },
    "executionInfo": {
     "elapsed": 727,
     "status": "error",
     "timestamp": 1611214172688,
     "user": {
      "displayName": "SARA Madani",
      "photoUrl": "https://lh3.googleusercontent.com/a-/AOh14GgHSgyfQT263k9LcCxEH_b1VthPWleDsOPArRLiEA=s64",
      "userId": "12407079864711164725"
     },
     "user_tz": -660
    },
    "id": "A5k_-m3KHuGL",
    "outputId": "ee87a015-da61-4b04-8fa4-a734f6e96fd6"
   },
   "outputs": [
    {
     "ename": "IndentationError",
     "evalue": "expected an indented block (<ipython-input-16-6e7307c8e4cf>, line 3)",
     "output_type": "error",
     "traceback": [
      "\u001b[1;36m  File \u001b[1;32m\"<ipython-input-16-6e7307c8e4cf>\"\u001b[1;36m, line \u001b[1;32m3\u001b[0m\n\u001b[1;33m    print(x)  #we will obtain an indentation error\u001b[0m\n\u001b[1;37m    ^\u001b[0m\n\u001b[1;31mIndentationError\u001b[0m\u001b[1;31m:\u001b[0m expected an indented block\n"
     ]
    }
   ],
   "source": [
    "x=2\n",
    "if x<5:\n",
    "print(x)  #we will obtain an indentation error"
   ]
  },
  {
   "cell_type": "markdown",
   "metadata": {
    "id": "nUuQCgfyHuGQ"
   },
   "source": [
    "# Comments in Python"
   ]
  },
  {
   "cell_type": "code",
   "execution_count": 17,
   "metadata": {
    "id": "cT8DFafAHuGR"
   },
   "outputs": [
    {
     "ename": "SyntaxError",
     "evalue": "invalid syntax (<ipython-input-17-996455cad99e>, line 4)",
     "output_type": "error",
     "traceback": [
      "\u001b[1;36m  File \u001b[1;32m\"<ipython-input-17-996455cad99e>\"\u001b[1;36m, line \u001b[1;32m4\u001b[0m\n\u001b[1;33m    this is not a comment\u001b[0m\n\u001b[1;37m                  ^\u001b[0m\n\u001b[1;31mSyntaxError\u001b[0m\u001b[1;31m:\u001b[0m invalid syntax\n"
     ]
    }
   ],
   "source": [
    "#this is a comment\n",
    "\n",
    "\n",
    "this is not a comment\n",
    "\n",
    "\n",
    "\"\"\"\n",
    "To write longer comments \n",
    "we can use this method\n",
    "\"\"\""
   ]
  },
  {
   "cell_type": "markdown",
   "metadata": {
    "id": "D8fahxg7HuGW"
   },
   "source": [
    "# Python import"
   ]
  },
  {
   "cell_type": "code",
   "execution_count": 19,
   "metadata": {
    "id": "rC2N-lNjHuGY"
   },
   "outputs": [],
   "source": [
    "# we use the import keyword to import libraries\n",
    "import pandas as h\n",
    "import pandas\n",
    "import math\n",
    "#there is no difference between these three manners"
   ]
  },
  {
   "cell_type": "code",
   "execution_count": 29,
   "metadata": {
    "id": "HmFVlasK3Qe1"
   },
   "outputs": [
    {
     "data": {
      "text/plain": [
       "3.141592653589793"
      ]
     },
     "execution_count": 29,
     "metadata": {},
     "output_type": "execute_result"
    }
   ],
   "source": [
    "from math import pi\n",
    "pi"
   ]
  },
  {
   "cell_type": "markdown",
   "metadata": {
    "id": "Ku_uhVRdHuGe"
   },
   "source": [
    "# Python Input"
   ]
  },
  {
   "cell_type": "code",
   "execution_count": 31,
   "metadata": {
    "id": "8b2n_zrv3kOM"
   },
   "outputs": [],
   "source": [
    "x=5"
   ]
  },
  {
   "cell_type": "code",
   "execution_count": 32,
   "metadata": {
    "colab": {
     "base_uri": "https://localhost:8080/"
    },
    "executionInfo": {
     "elapsed": 30621,
     "status": "ok",
     "timestamp": 1611214615150,
     "user": {
      "displayName": "SARA Madani",
      "photoUrl": "https://lh3.googleusercontent.com/a-/AOh14GgHSgyfQT263k9LcCxEH_b1VthPWleDsOPArRLiEA=s64",
      "userId": "12407079864711164725"
     },
     "user_tz": -660
    },
    "id": "RBdOAC6vHuGf",
    "outputId": "bc0dcdcf-096b-4d2e-bae8-c71ea1b83f92"
   },
   "outputs": [
    {
     "name": "stdout",
     "output_type": "stream",
     "text": [
      "2\n"
     ]
    }
   ],
   "source": [
    "x=input() #user is waited to enter his input"
   ]
  },
  {
   "cell_type": "code",
   "execution_count": 33,
   "metadata": {},
   "outputs": [
    {
     "name": "stdout",
     "output_type": "stream",
     "text": [
      "x=  2\n"
     ]
    }
   ],
   "source": [
    "print(\"x= \",x)"
   ]
  },
  {
   "cell_type": "code",
   "execution_count": 34,
   "metadata": {
    "colab": {
     "base_uri": "https://localhost:8080/"
    },
    "executionInfo": {
     "elapsed": 3652,
     "status": "ok",
     "timestamp": 1611214727483,
     "user": {
      "displayName": "SARA Madani",
      "photoUrl": "https://lh3.googleusercontent.com/a-/AOh14GgHSgyfQT263k9LcCxEH_b1VthPWleDsOPArRLiEA=s64",
      "userId": "12407079864711164725"
     },
     "user_tz": -660
    },
    "id": "lM-D1B6iHuGk",
    "outputId": "9c45275b-693d-4f00-c1f2-407b5371391d"
   },
   "outputs": [
    {
     "name": "stdout",
     "output_type": "stream",
     "text": [
      "enter your a:  4\n"
     ]
    }
   ],
   "source": [
    "a= input(\"enter your a:  \")"
   ]
  },
  {
   "cell_type": "code",
   "execution_count": 36,
   "metadata": {
    "colab": {
     "base_uri": "https://localhost:8080/"
    },
    "executionInfo": {
     "elapsed": 721,
     "status": "ok",
     "timestamp": 1611214732922,
     "user": {
      "displayName": "SARA Madani",
      "photoUrl": "https://lh3.googleusercontent.com/a-/AOh14GgHSgyfQT263k9LcCxEH_b1VthPWleDsOPArRLiEA=s64",
      "userId": "12407079864711164725"
     },
     "user_tz": -660
    },
    "id": "4aO8HCqbHuGq",
    "outputId": "6bb34e42-fc8d-47b3-f38f-6bda090c93ec"
   },
   "outputs": [
    {
     "name": "stdout",
     "output_type": "stream",
     "text": [
      "<class 'str'>\n"
     ]
    }
   ],
   "source": [
    "print(type(a)) #a is string by default"
   ]
  },
  {
   "cell_type": "markdown",
   "metadata": {
    "id": "-lTOnRLaHuGw"
   },
   "source": [
    "# Python Output"
   ]
  },
  {
   "cell_type": "code",
   "execution_count": 38,
   "metadata": {
    "id": "rinLpCQoHuG2"
   },
   "outputs": [
    {
     "name": "stdout",
     "output_type": "stream",
     "text": [
      "Welcome to GMC\n"
     ]
    }
   ],
   "source": [
    "print(\"Welcome to GMC\") #we use the print keyword to print our message"
   ]
  }
 ],
 "metadata": {
  "colab": {
   "collapsed_sections": [],
   "name": "Workshop 2: python syntax.ipynb",
   "provenance": []
  },
  "kernelspec": {
   "display_name": "Python 3",
   "language": "python",
   "name": "python3"
  },
  "language_info": {
   "codemirror_mode": {
    "name": "ipython",
    "version": 3
   },
   "file_extension": ".py",
   "mimetype": "text/x-python",
   "name": "python",
   "nbconvert_exporter": "python",
   "pygments_lexer": "ipython3",
   "version": "3.8.8"
  }
 },
 "nbformat": 4,
 "nbformat_minor": 1
}
